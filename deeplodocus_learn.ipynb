{
 "cells": [
  {
   "cell_type": "markdown",
   "id": "70f347ed",
   "metadata": {},
   "source": [
    "# deeplodocus-learn\n",
    "\n",
    "#### За основу было взято: [Learning to Play Chess with Minimal Lookahead and Deep Value Neural Networks](https://www.ai.rug.nl/~mwiering/Thesis_Matthia_Sabatelli.pdf)\n",
    "\n",
    "#### Мои обученные модели: [Google drive](https://drive.google.com/drive/folders/1VvwrBkgA9i_8i3D2PHZ_CJ_ni2xFUPlT)\n",
    "\n",
    "<p style=\"text-align:center;\"><img src=\"media/logo.png\" alt=\"drawing\" width=\"200\"/></p>"
   ]
  },
  {
   "cell_type": "code",
   "execution_count": 1,
   "id": "15ce072f",
   "metadata": {},
   "outputs": [
    {
     "name": "stderr",
     "output_type": "stream",
     "text": [
      "2023-09-06 21:03:58.134412: I tensorflow/core/platform/cpu_feature_guard.cc:182] This TensorFlow binary is optimized to use available CPU instructions in performance-critical operations.\n",
      "To enable the following instructions: AVX2 FMA, in other operations, rebuild TensorFlow with the appropriate compiler flags.\n"
     ]
    }
   ],
   "source": [
    "from keras.models import Sequential\n",
    "from keras.layers import Dense, Flatten, BatchNormalization\n",
    "import keras\n",
    "import pandas as pd\n",
    "import stockfish\n",
    "import chess, chess.pgn\n",
    "import io\n",
    "from sklearn.neural_network import MLPRegressor\n",
    "from sklearn.model_selection import train_test_split\n",
    "from sklearn import metrics\n",
    "import numpy as np\n",
    "\n",
    "# Подгружаем наши датасеты\n",
    "X = np.load('final/Positions.npy')\n",
    "y = np.load('final/Labels.npy')"
   ]
  },
  {
   "cell_type": "code",
   "execution_count": 2,
   "id": "1dc8850f",
   "metadata": {},
   "outputs": [
    {
     "name": "stdout",
     "output_type": "stream",
     "text": [
      "Model: \"sequential\"\n",
      "_________________________________________________________________\n",
      " Layer (type)                Output Shape              Param #   \n",
      "=================================================================\n",
      " dense (Dense)               (None, 2048)              1574912   \n",
      "                                                                 \n",
      " batch_normalization (Batch  (None, 2048)              8192      \n",
      " Normalization)                                                  \n",
      "                                                                 \n",
      " dense_1 (Dense)             (None, 2048)              4196352   \n",
      "                                                                 \n",
      " batch_normalization_1 (Bat  (None, 2048)              8192      \n",
      " chNormalization)                                                \n",
      "                                                                 \n",
      " dense_2 (Dense)             (None, 2048)              4196352   \n",
      "                                                                 \n",
      " batch_normalization_2 (Bat  (None, 2048)              8192      \n",
      " chNormalization)                                                \n",
      "                                                                 \n",
      " dense_3 (Dense)             (None, 1)                 2049      \n",
      "                                                                 \n",
      "=================================================================\n",
      "Total params: 9994241 (38.13 MB)\n",
      "Trainable params: 9981953 (38.08 MB)\n",
      "Non-trainable params: 12288 (48.00 KB)\n",
      "_________________________________________________________________\n"
     ]
    }
   ],
   "source": [
    "model = Sequential()\n",
    "\n",
    "# Вход интерпретируется как одномерный массив размера 12х8х8=768\n",
    "# Был использован трехслойный MLP с 2048 скрытыми единицами на слой\n",
    "# Каждый слой активируется функцией elu\n",
    "# После каждого скрытого слоя используется BatchNormalization\n",
    "# Для задачи регрессии используется выход равный 1 с функцией активации linear\n",
    "\n",
    "model.add(Dense(2048, activation='elu', input_shape=(768,)))\n",
    "model.add(BatchNormalization())\n",
    "\n",
    "model.add(Dense(2048, activation='elu'))\n",
    "model.add(BatchNormalization())\n",
    "\n",
    "model.add(Dense(2048, activation='elu'))\n",
    "model.add(BatchNormalization())\n",
    "\n",
    "model.add(Dense(1, activation='linear'))\n",
    "\n",
    "model.summary()\n",
    "\n",
    "sgd = keras.optimizers.legacy.SGD(learning_rate=0.001, decay=1e-8, momentum=0.7, nesterov=True)\n",
    "model.compile(loss='mean_squared_error', optimizer=sgd)"
   ]
  },
  {
   "cell_type": "code",
   "execution_count": null,
   "id": "d6c0160d",
   "metadata": {},
   "outputs": [],
   "source": [
    "# Обучаем модель\n",
    "history = model.fit(X, y, batch_size=248, epochs=500)\n",
    "\n",
    "# Сохраняем модель в файл\n",
    "model.save('1_400_000_ep500.h5')"
   ]
  }
 ],
 "metadata": {
  "kernelspec": {
   "display_name": "Python 3 (ipykernel)",
   "language": "python",
   "name": "python3"
  },
  "language_info": {
   "codemirror_mode": {
    "name": "ipython",
    "version": 3
   },
   "file_extension": ".py",
   "mimetype": "text/x-python",
   "name": "python",
   "nbconvert_exporter": "python",
   "pygments_lexer": "ipython3",
   "version": "3.10.12"
  }
 },
 "nbformat": 4,
 "nbformat_minor": 5
}
