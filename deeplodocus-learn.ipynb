{
 "cells": [
  {
   "cell_type": "markdown",
   "id": "0cd0c376",
   "metadata": {},
   "source": [
    "# Модель для предсказания оценки шахматной позиции"
   ]
  },
  {
   "cell_type": "markdown",
   "id": "de290b49",
   "metadata": {},
   "source": [
    "# Готовим первый датасет с 152.894 партиями между игроками > 2000 ELO"
   ]
  },
  {
   "cell_type": "code",
   "execution_count": 1,
   "id": "8b7e1118",
   "metadata": {},
   "outputs": [],
   "source": [
    "import pandas as pd\n",
    "import stockfish\n",
    "import chess, chess.pgn\n",
    "import io\n",
    "from sklearn.neural_network import MLPRegressor\n",
    "from sklearn.model_selection import train_test_split\n",
    "from sklearn import metrics\n",
    "import numpy as np"
   ]
  },
  {
   "cell_type": "code",
   "execution_count": 3,
   "id": "6397cf4d",
   "metadata": {},
   "outputs": [
    {
     "ename": "ParserError",
     "evalue": "Error tokenizing data. C error: Calling read(nbytes) on source failed. Try engine='python'.",
     "output_type": "error",
     "traceback": [
      "\u001b[0;31m---------------------------------------------------------------------------\u001b[0m",
      "\u001b[0;31mParserError\u001b[0m                               Traceback (most recent call last)",
      "\u001b[0;32m/tmp/ipykernel_4634/251935943.py\u001b[0m in \u001b[0;36m<module>\u001b[0;34m\u001b[0m\n\u001b[1;32m      1\u001b[0m \u001b[0;31m# https://www.kaggle.com/datasets/arevel/chess-games?resource=download\u001b[0m\u001b[0;34m\u001b[0m\u001b[0;34m\u001b[0m\u001b[0m\n\u001b[0;32m----> 2\u001b[0;31m \u001b[0mdf\u001b[0m \u001b[0;34m=\u001b[0m \u001b[0mpd\u001b[0m\u001b[0;34m.\u001b[0m\u001b[0mread_csv\u001b[0m\u001b[0;34m(\u001b[0m\u001b[0;34m\"chess_games.csv\"\u001b[0m\u001b[0;34m)\u001b[0m\u001b[0;34m\u001b[0m\u001b[0;34m\u001b[0m\u001b[0m\n\u001b[0m\u001b[1;32m      3\u001b[0m \u001b[0;34m\u001b[0m\u001b[0m\n\u001b[1;32m      4\u001b[0m \u001b[0;31m# Исключим все игры в режиме \"Пуля\"\u001b[0m\u001b[0;34m\u001b[0m\u001b[0;34m\u001b[0m\u001b[0m\n\u001b[1;32m      5\u001b[0m \u001b[0;31m# Оставим только партии в которых по крайней мере один игрок достиг рейтинга 2000\u001b[0m\u001b[0;34m\u001b[0m\u001b[0;34m\u001b[0m\u001b[0m\n",
      "\u001b[0;32m~/.local/lib/python3.10/site-packages/pandas/io/parsers/readers.py\u001b[0m in \u001b[0;36mread_csv\u001b[0;34m(filepath_or_buffer, sep, delimiter, header, names, index_col, usecols, dtype, engine, converters, true_values, false_values, skipinitialspace, skiprows, skipfooter, nrows, na_values, keep_default_na, na_filter, verbose, skip_blank_lines, parse_dates, infer_datetime_format, keep_date_col, date_parser, date_format, dayfirst, cache_dates, iterator, chunksize, compression, thousands, decimal, lineterminator, quotechar, quoting, doublequote, escapechar, comment, encoding, encoding_errors, dialect, on_bad_lines, delim_whitespace, low_memory, memory_map, float_precision, storage_options, dtype_backend)\u001b[0m\n\u001b[1;32m    946\u001b[0m     \u001b[0mkwds\u001b[0m\u001b[0;34m.\u001b[0m\u001b[0mupdate\u001b[0m\u001b[0;34m(\u001b[0m\u001b[0mkwds_defaults\u001b[0m\u001b[0;34m)\u001b[0m\u001b[0;34m\u001b[0m\u001b[0;34m\u001b[0m\u001b[0m\n\u001b[1;32m    947\u001b[0m \u001b[0;34m\u001b[0m\u001b[0m\n\u001b[0;32m--> 948\u001b[0;31m     \u001b[0;32mreturn\u001b[0m \u001b[0m_read\u001b[0m\u001b[0;34m(\u001b[0m\u001b[0mfilepath_or_buffer\u001b[0m\u001b[0;34m,\u001b[0m \u001b[0mkwds\u001b[0m\u001b[0;34m)\u001b[0m\u001b[0;34m\u001b[0m\u001b[0;34m\u001b[0m\u001b[0m\n\u001b[0m\u001b[1;32m    949\u001b[0m \u001b[0;34m\u001b[0m\u001b[0m\n\u001b[1;32m    950\u001b[0m \u001b[0;34m\u001b[0m\u001b[0m\n",
      "\u001b[0;32m~/.local/lib/python3.10/site-packages/pandas/io/parsers/readers.py\u001b[0m in \u001b[0;36m_read\u001b[0;34m(filepath_or_buffer, kwds)\u001b[0m\n\u001b[1;32m    615\u001b[0m \u001b[0;34m\u001b[0m\u001b[0m\n\u001b[1;32m    616\u001b[0m     \u001b[0;32mwith\u001b[0m \u001b[0mparser\u001b[0m\u001b[0;34m:\u001b[0m\u001b[0;34m\u001b[0m\u001b[0;34m\u001b[0m\u001b[0m\n\u001b[0;32m--> 617\u001b[0;31m         \u001b[0;32mreturn\u001b[0m \u001b[0mparser\u001b[0m\u001b[0;34m.\u001b[0m\u001b[0mread\u001b[0m\u001b[0;34m(\u001b[0m\u001b[0mnrows\u001b[0m\u001b[0;34m)\u001b[0m\u001b[0;34m\u001b[0m\u001b[0;34m\u001b[0m\u001b[0m\n\u001b[0m\u001b[1;32m    618\u001b[0m \u001b[0;34m\u001b[0m\u001b[0m\n\u001b[1;32m    619\u001b[0m \u001b[0;34m\u001b[0m\u001b[0m\n",
      "\u001b[0;32m~/.local/lib/python3.10/site-packages/pandas/io/parsers/readers.py\u001b[0m in \u001b[0;36mread\u001b[0;34m(self, nrows)\u001b[0m\n\u001b[1;32m   1746\u001b[0m                     \u001b[0mcolumns\u001b[0m\u001b[0;34m,\u001b[0m\u001b[0;34m\u001b[0m\u001b[0;34m\u001b[0m\u001b[0m\n\u001b[1;32m   1747\u001b[0m                     \u001b[0mcol_dict\u001b[0m\u001b[0;34m,\u001b[0m\u001b[0;34m\u001b[0m\u001b[0;34m\u001b[0m\u001b[0m\n\u001b[0;32m-> 1748\u001b[0;31m                 \u001b[0;34m)\u001b[0m \u001b[0;34m=\u001b[0m \u001b[0mself\u001b[0m\u001b[0;34m.\u001b[0m\u001b[0m_engine\u001b[0m\u001b[0;34m.\u001b[0m\u001b[0mread\u001b[0m\u001b[0;34m(\u001b[0m  \u001b[0;31m# type: ignore[attr-defined]\u001b[0m\u001b[0;34m\u001b[0m\u001b[0;34m\u001b[0m\u001b[0m\n\u001b[0m\u001b[1;32m   1749\u001b[0m                     \u001b[0mnrows\u001b[0m\u001b[0;34m\u001b[0m\u001b[0;34m\u001b[0m\u001b[0m\n\u001b[1;32m   1750\u001b[0m                 )\n",
      "\u001b[0;32m~/.local/lib/python3.10/site-packages/pandas/io/parsers/c_parser_wrapper.py\u001b[0m in \u001b[0;36mread\u001b[0;34m(self, nrows)\u001b[0m\n\u001b[1;32m    232\u001b[0m         \u001b[0;32mtry\u001b[0m\u001b[0;34m:\u001b[0m\u001b[0;34m\u001b[0m\u001b[0;34m\u001b[0m\u001b[0m\n\u001b[1;32m    233\u001b[0m             \u001b[0;32mif\u001b[0m \u001b[0mself\u001b[0m\u001b[0;34m.\u001b[0m\u001b[0mlow_memory\u001b[0m\u001b[0;34m:\u001b[0m\u001b[0;34m\u001b[0m\u001b[0;34m\u001b[0m\u001b[0m\n\u001b[0;32m--> 234\u001b[0;31m                 \u001b[0mchunks\u001b[0m \u001b[0;34m=\u001b[0m \u001b[0mself\u001b[0m\u001b[0;34m.\u001b[0m\u001b[0m_reader\u001b[0m\u001b[0;34m.\u001b[0m\u001b[0mread_low_memory\u001b[0m\u001b[0;34m(\u001b[0m\u001b[0mnrows\u001b[0m\u001b[0;34m)\u001b[0m\u001b[0;34m\u001b[0m\u001b[0;34m\u001b[0m\u001b[0m\n\u001b[0m\u001b[1;32m    235\u001b[0m                 \u001b[0;31m# destructive to chunks\u001b[0m\u001b[0;34m\u001b[0m\u001b[0;34m\u001b[0m\u001b[0m\n\u001b[1;32m    236\u001b[0m                 \u001b[0mdata\u001b[0m \u001b[0;34m=\u001b[0m \u001b[0m_concatenate_chunks\u001b[0m\u001b[0;34m(\u001b[0m\u001b[0mchunks\u001b[0m\u001b[0;34m)\u001b[0m\u001b[0;34m\u001b[0m\u001b[0;34m\u001b[0m\u001b[0m\n",
      "\u001b[0;32mparsers.pyx\u001b[0m in \u001b[0;36mpandas._libs.parsers.TextReader.read_low_memory\u001b[0;34m()\u001b[0m\n",
      "\u001b[0;32mparsers.pyx\u001b[0m in \u001b[0;36mpandas._libs.parsers.TextReader._read_rows\u001b[0;34m()\u001b[0m\n",
      "\u001b[0;32mparsers.pyx\u001b[0m in \u001b[0;36mpandas._libs.parsers.TextReader._tokenize_rows\u001b[0;34m()\u001b[0m\n",
      "\u001b[0;32mparsers.pyx\u001b[0m in \u001b[0;36mpandas._libs.parsers.TextReader._check_tokenize_status\u001b[0;34m()\u001b[0m\n",
      "\u001b[0;32mparsers.pyx\u001b[0m in \u001b[0;36mpandas._libs.parsers.raise_parser_error\u001b[0;34m()\u001b[0m\n",
      "\u001b[0;31mParserError\u001b[0m: Error tokenizing data. C error: Calling read(nbytes) on source failed. Try engine='python'."
     ]
    }
   ],
   "source": [
    "# https://www.kaggle.com/datasets/arevel/chess-games?resource=download\n",
    "df = pd.read_csv(\"chess_games.csv\")\n",
    "\n",
    "# Исключим все игры в режиме \"Пуля\"\n",
    "# Оставим только партии в которых по крайней мере один игрок достиг рейтинга 2000\n",
    "# Исключим партии с некорректной записью и слишком короткие партии\n",
    "# Оставим только партии, которые закончились матом\n",
    "\n",
    "print(\"Количество партий в датасете до фильтрации:\", len(df))\n",
    "\n",
    "temp_df = df.drop(df[(df['Event'] == ' Bullet tournament ') | (df['Event'] == 'Bullet tournament ') | (df['Event'] == ' Bullet ') | (df['Event'] == 'Bullet ')].index)\n",
    "filter_df = temp_df.drop(temp_df[(temp_df['WhiteElo'] < 2000) & (temp_df['BlackElo'] < 2000)].index)\n",
    "second_filter = filter_df.drop(filter_df[(~filter_df['AN'].str.contains('#')) | (filter_df['Result'] == \"1/2-1/2\")].index)\n",
    "\n",
    "notation_data = second_filter[['AN']]\n",
    "notation_data = notation_data[notation_data['AN'].str.len() >= 100]\n",
    "notation_data = notation_data[~notation_data['AN'].str.contains('{')]\n",
    "notation_data.reset_index(drop=True, inplace=True)\n",
    "\n",
    "print(\"Количество партий в датасете после фильтрации:\", len(notation_data))\n",
    "print(notation_data.head())"
   ]
  },
  {
   "cell_type": "markdown",
   "id": "0f949cae",
   "metadata": {},
   "source": [
    "# Готовим второй датасет с оценкой 12,958,035 fen позиций движком Stockfish на глубине 22"
   ]
  },
  {
   "cell_type": "code",
   "execution_count": 122,
   "id": "58952f53",
   "metadata": {},
   "outputs": [
    {
     "name": "stdout",
     "output_type": "stream",
     "text": [
      "12958035\n",
      "                                                 FEN Evaluation\n",
      "0  rnbqkbnr/pppppppp/8/8/4P3/8/PPPP1PPP/RNBQKBNR ...        -10\n",
      "1  rnbqkbnr/pppp1ppp/4p3/8/4P3/8/PPPP1PPP/RNBQKBN...        +56\n",
      "2  rnbqkbnr/pppp1ppp/4p3/8/3PP3/8/PPP2PPP/RNBQKBN...         -9\n",
      "3  rnbqkbnr/ppp2ppp/4p3/3p4/3PP3/8/PPP2PPP/RNBQKB...        +52\n",
      "4  rnbqkbnr/ppp2ppp/4p3/3p4/3PP3/8/PPPN1PPP/R1BQK...        -26\n"
     ]
    }
   ],
   "source": [
    "# https://www.kaggle.com/datasets/ronakbadhe/chess-evaluations\n",
    "fen_data = pd.read_csv(\"fen_to_stockfish_evaluations.csv\")\n",
    "\n",
    "print(len(fen_data))\n",
    "print(fen_data.head())"
   ]
  },
  {
   "cell_type": "markdown",
   "id": "7a062971",
   "metadata": {},
   "source": [
    "# Преобразуем первый датасет в формат второго\n",
    "## Все 6 датасетов - https://clck.ru/35XoUg"
   ]
  },
  {
   "cell_type": "code",
   "execution_count": 2,
   "id": "e3f44022",
   "metadata": {},
   "outputs": [
    {
     "ename": "NameError",
     "evalue": "name 'time' is not defined",
     "output_type": "error",
     "traceback": [
      "\u001b[0;31m---------------------------------------------------------------------------\u001b[0m",
      "\u001b[0;31mNameError\u001b[0m                                 Traceback (most recent call last)",
      "\u001b[0;32m/tmp/ipykernel_4736/3912773447.py\u001b[0m in \u001b[0;36m<module>\u001b[0;34m\u001b[0m\n\u001b[1;32m     13\u001b[0m \u001b[0mevaluetes\u001b[0m \u001b[0;34m=\u001b[0m \u001b[0;34m[\u001b[0m\u001b[0;34m]\u001b[0m\u001b[0;34m\u001b[0m\u001b[0;34m\u001b[0m\u001b[0m\n\u001b[1;32m     14\u001b[0m \u001b[0;34m\u001b[0m\u001b[0m\n\u001b[0;32m---> 15\u001b[0;31m \u001b[0mstart_time\u001b[0m \u001b[0;34m=\u001b[0m \u001b[0mtime\u001b[0m\u001b[0;34m.\u001b[0m\u001b[0mtime\u001b[0m\u001b[0;34m(\u001b[0m\u001b[0;34m)\u001b[0m\u001b[0;34m\u001b[0m\u001b[0;34m\u001b[0m\u001b[0m\n\u001b[0m\u001b[1;32m     16\u001b[0m \u001b[0;34m\u001b[0m\u001b[0m\n\u001b[1;32m     17\u001b[0m \u001b[0;32mfor\u001b[0m \u001b[0mi\u001b[0m\u001b[0;34m,\u001b[0m \u001b[0mrow\u001b[0m \u001b[0;32min\u001b[0m \u001b[0mnotation_data\u001b[0m\u001b[0;34m.\u001b[0m\u001b[0miterrows\u001b[0m\u001b[0;34m(\u001b[0m\u001b[0;34m)\u001b[0m\u001b[0;34m:\u001b[0m\u001b[0;34m\u001b[0m\u001b[0;34m\u001b[0m\u001b[0m\n",
      "\u001b[0;31mNameError\u001b[0m: name 'time' is not defined"
     ]
    }
   ],
   "source": [
    "# Для этого прогоним все позиции из партий первого датасета через stockfish\n",
    "\n",
    "# http://web.ist.utl.pt/diogo.ferreira/papers/ferreira13impact.pdf , страница 77\n",
    "stockfishEngine = stockfish.Stockfish(path=\"/home/sergey/stockfish/stockfish-ubuntu-x86-64-avx2\", depth=8)\n",
    "\n",
    "def who_move_from_fen(fen):\n",
    "    res = fen.split(' ')[1]\n",
    "    if (res == \"w\"):\n",
    "        return \"-\"\n",
    "    return \"+\"\n",
    "\n",
    "fens = []\n",
    "evaluetes = []\n",
    "\n",
    "start_time = time.time()\n",
    "\n",
    "for i, row in notation_data.iterrows():\n",
    "    # Идём по всем играм\n",
    "    game = chess.pgn.read_game(io.StringIO(row[\"AN\"]))\n",
    "    end_game = game.end()\n",
    "    \n",
    "    while end_game:\n",
    "        # Идём по всем доскам в игре\n",
    "        fen = end_game.board().fen().strip()\n",
    "        stockfishEngine.set_fen_position(fen)\n",
    "        ev = stockfishEngine.get_evaluation()\n",
    "        \n",
    "        if (ev['type'] == \"mate\"): # '#-0' - чёрные поставили мат, '#+0' - белые поставили мат\n",
    "            if (str(ev['value']) == \"0\"):\n",
    "                side = who_move_from_fen(fen)\n",
    "                evaluetes.append(\"#\" + side + str(ev['value']))\n",
    "            else:\n",
    "                evaluetes.append(\"#\" + str(ev['value']))\n",
    "        else:\n",
    "            evaluetes.append(ev['value'])\n",
    "            \n",
    "        \n",
    "        fens.append(fen)\n",
    "        end_game = end_game.parent\n",
    "        \n",
    "    if ((i + 1) % 1000 == 0):\n",
    "        print(str(i + 1) + \" / 152894\")\n",
    "        print(time.time() - start_time)\n",
    "        start_time = time.time()\n",
    "        \n",
    "        if ((i + 1) % 51000 == 0):\n",
    "            temp_df = pd.DataFrame({'FEN': fens, 'Evaluation': evaluetes})\n",
    "            temp_df.to_csv(str(i + 1) + '_temp_fen.csv', encoding='utf-8', index=False)\n",
    "\n",
    "final_df = pd.DataFrame({'FEN': fens, 'Evaluation': evaluetes})\n",
    "final_df.to_csv('final_fen.csv', encoding='utf-8', index=False)"
   ]
  },
  {
   "cell_type": "markdown",
   "id": "273d89d7",
   "metadata": {},
   "source": [
    "## Создадим 3 итоговых и 3 временных датасета"
   ]
  },
  {
   "cell_type": "code",
   "execution_count": 237,
   "id": "3e09c6d0",
   "metadata": {},
   "outputs": [
    {
     "name": "stdout",
     "output_type": "stream",
     "text": [
      "12954834\n",
      "                                                 FEN Evaluation\n",
      "0        1B1K2k1/1R4p1/5p2/8/r7/6P1/8/8 w - - 87 100        +68\n",
      "1          1B1K4/1R3kp1/5p2/8/r7/6P1/8/8 b - - 86 99        +66\n",
      "2    1B1N2k1/6n1/2p2p1p/3p2p1/3P4/7P/7K/8 w - - 2 46        +87\n",
      "3     1B1Nn1k1/8/2p2p1p/3p2p1/3P4/7P/7K/8 b - - 1 45       +102\n",
      "4  1B1Q1bk1/6pp/p1q2p2/1p2p3/2r5/2n2PP1/P3R1KP/3R...          0\n",
      "10257309\n",
      "                                               FEN Evaluation\n",
      "0  1B1K4/1p3k2/2p1b1p1/1r3P2/8/5R1p/8/8 b - - 0 45       -553\n",
      "1  1B1K4/1p3k2/2p1b1p1/1r5p/5P2/4R3/8/8 b - - 1 43       -452\n",
      "2  1B1K4/1p3k2/2p1b1p1/1r6/5P1p/4R3/8/8 w - - 0 44       -459\n",
      "3  1B1K4/1p3k2/2p1b1p1/1r6/5P1p/5R2/8/8 b - - 1 44       -509\n",
      "4  1B1K4/1p3k2/2p1b1p1/1r6/5P2/5R1p/8/8 w - - 0 45       -472\n"
     ]
    },
    {
     "name": "stderr",
     "output_type": "stream",
     "text": [
      "/tmp/ipykernel_9417/3260246767.py:20: FutureWarning: The frame.append method is deprecated and will be removed from pandas in a future version. Use pandas.concat instead.\n",
      "  df_append = deep22.append(deep8, ignore_index=True)\n"
     ]
    },
    {
     "name": "stdout",
     "output_type": "stream",
     "text": [
      "                                                        FEN Evaluation\n",
      "0               1B1K2k1/1R4p1/5p2/8/r7/6P1/8/8 w - - 87 100        +68\n",
      "1                 1B1K4/1R3kp1/5p2/8/r7/6P1/8/8 b - - 86 99        +66\n",
      "2           1B1K4/1p3k2/2p1b1p1/1r3P2/8/5R1p/8/8 b - - 0 45       -553\n",
      "3           1B1K4/1p3k2/2p1b1p1/1r5p/5P2/4R3/8/8 b - - 1 43       -452\n",
      "4           1B1K4/1p3k2/2p1b1p1/1r6/5P1p/4R3/8/8 w - - 0 44       -459\n",
      "...                                                     ...        ...\n",
      "23167000  rrqn2k1/3bbp1p/3p4/3Pp1p1/pPN1Pn2/N3B2P/2BQ1PP...       +406\n",
      "23167001  rrqn2k1/3bbp1p/3p4/3Pp1p1/pPN1Pn2/N3B2P/3Q1PP1...       +385\n",
      "23167002  rrqn2k1/4pp1p/3p2p1/2pQ4/P3P2P/1PB3P1/5P2/1R1R...        +27\n",
      "23167003  rrqn2k1/4pp1p/3p2p1/2pQ4/P6P/1PB3P1/4PP2/1R1R2...        +61\n",
      "23167004  rrqnn1k1/p2b1pbp/Q2p2p1/B1pPp3/2P5/1R3NP1/P2NP...       +141\n",
      "\n",
      "[23167005 rows x 2 columns]\n",
      "23167005\n"
     ]
    },
    {
     "name": "stderr",
     "output_type": "stream",
     "text": [
      "/tmp/ipykernel_9417/3260246767.py:36: FutureWarning: The frame.append method is deprecated and will be removed from pandas in a future version. Use pandas.concat instead.\n",
      "  df_append = deep22.append(deep8, ignore_index=True)\n"
     ]
    },
    {
     "name": "stdout",
     "output_type": "stream",
     "text": [
      "12953389\n",
      "10129813\n",
      "23023152\n"
     ]
    }
   ],
   "source": [
    "def convert_to_fen_without_moves(fen):\n",
    "    res = fen.strip().split(' ')\n",
    "    return res[0] + ' ' + res[1]\n",
    "\n",
    "# Оставим только уникальные FEN записи\n",
    "unique_fen_data = fen_data.groupby('FEN').first().reset_index()\n",
    "\n",
    "print(len(unique_fen_data)) # 12954834\n",
    "print(unique_fen_data.head())\n",
    "\n",
    "deep22 = unique_fen_data\n",
    "deep22.to_csv('deep22.csv', encoding='utf-8', index=False)\n",
    "\n",
    "# Оставим только уникальные FEN записи\n",
    "deep8 = final_df.groupby('FEN').first().reset_index()\n",
    "\n",
    "print(len(deep8)) # 10257309\n",
    "print(deep8.head())\n",
    "\n",
    "deep8.to_csv('deep8.csv', encoding='utf-8', index=False)\n",
    "\n",
    "df_append = deep22.append(deep8, ignore_index=True)\n",
    "df_append.reset_index()\n",
    "\n",
    "# Оставим только уникальные FEN записи\n",
    "deep22_merge_deep8 = df_append.groupby('FEN').first().reset_index()\n",
    "\n",
    "print(deep22_merge_deep8)\n",
    "print(len(deep22_merge_deep8)) # 23167005\n",
    "\n",
    "deep22_merge_deep8.to_csv('deep22_merge_deep8.csv', encoding='utf-8', index=False)\n",
    "\n",
    "# Преобразуем FEN записи в укороченный формат, вида - '8/8/8/8 w'\n",
    "deep22['FEN'] = deep22['FEN'].apply(convert_to_fen_without_moves)\n",
    "deep8['FEN'] = deep8['FEN'].apply(convert_to_fen_without_moves)\n",
    "\n",
    "# Оставим только уникальные укороченные FEN записи\n",
    "deep22 = deep22.groupby('FEN').first().reset_index()\n",
    "deep8 = deep8.groupby('FEN').first().reset_index()\n",
    "\n",
    "df_append = deep22.append(deep8, ignore_index=True)\n",
    "# Оставим только уникальные укороченные FEN записи\n",
    "deep22_merge_deep8 = df_append.groupby('FEN').first().reset_index()\n",
    "\n",
    "print(len(deep22)) # 12953389\n",
    "print(len(deep8)) # 10129813\n",
    "print(len(deep22_merge_deep8)) # 23023152\n",
    "\n",
    "deep22.to_csv('deep22_with_trim_fen.csv', encoding='utf-8', index=False)\n",
    "deep8.to_csv('deep8_with_trim_fen.csv', encoding='utf-8', index=False)\n",
    "deep22_merge_deep8.to_csv('deep22_merge_deep8_with_trim_fen.csv', encoding='utf-8', index=False)"
   ]
  },
  {
   "cell_type": "markdown",
   "id": "24aa1958",
   "metadata": {},
   "source": [
    "# Преобразуем итоговые датасеты для передачи их в нейросеть\n",
    "\n",
    "<img src=\"https://i.ibb.co/PcVVy7W/Grm-U05-2-GKQ.jpg\" alt=\"Grm-U05-2-GKQ\" border=\"0\">"
   ]
  },
  {
   "cell_type": "code",
   "execution_count": 35,
   "id": "3bfb233d",
   "metadata": {},
   "outputs": [],
   "source": [
    "def fen_to_bitmap_and_who_move_data(fen):\n",
    "    # Функция переводит fen запись в понятную для нейросети форму\n",
    "    # Фигура помечается знаком 0, когда ее нет на этом поле, знаком 1, когда она принадлежит игроку, \n",
    "    # который должен сделать ход, и знаком −1, когда она принадлежит противнику.\n",
    "\n",
    "    board = chess.Board()\n",
    "    board.set_fen(fen)\n",
    "\n",
    "    bitmap = []\n",
    "    colors = [chess.WHITE, chess.BLACK]\n",
    "    pieces = [chess.PAWN, chess.KNIGHT, chess.BISHOP, chess.ROOK, chess.QUEEN, chess.KING]\n",
    "\n",
    "    for color in colors:\n",
    "        for piece in pieces:\n",
    "            squares = board.pieces(piece, color)\n",
    "            bitmap_ = [0] * 64\n",
    "\n",
    "            for square in squares:\n",
    "                if (color == board.turn):\n",
    "                    bitmap_[square] = 1\n",
    "                else:\n",
    "                    bitmap_[square] = -1\n",
    "\n",
    "            bitmap.extend(bitmap_)\n",
    "    \n",
    "    return bitmap\n",
    "\n",
    "def get_value_from_mate_value(mate_value):\n",
    "    abs_max_value = 15319\n",
    "    d_centipawn = 10\n",
    "    \n",
    "    res = ((25 - int(mate_value[2:])) * d_centipawn) + abs_max_value\n",
    "    \n",
    "    if (mate_value[1] == '-'):\n",
    "        return res * -1\n",
    "    return res\n",
    "\n",
    "def stockfish_value_to_number_value(value):\n",
    "    if value[0] == '+':\n",
    "        return int(value[1:])\n",
    "    if value[0] == '-' or value[0] == '0':\n",
    "        return int(value)\n",
    "    if value[0] == '#':\n",
    "        return get_value_from_mate_value(value)\n",
    "    \n",
    "    raise Exception(\"Dont know start char for value - \" + value)\n",
    "    \n",
    "def get_values_from_df(df):\n",
    "    X = []\n",
    "    y = []\n",
    "    \n",
    "    for index, row in df.iterrows():\n",
    "        X.append(fen_to_bitmap_and_who_move_data(row['FEN']))\n",
    "        y.append(stockfish_value_to_number_value(row['Evaluation']))\n",
    "        if (index % 100000 == 0 and index != 0):\n",
    "            print(index)\n",
    "        if ((index + 1) % 100000 == 0): # Слишком много данных\n",
    "            break\n",
    "    \n",
    "    return X, y"
   ]
  },
  {
   "cell_type": "markdown",
   "id": "ccf53e8a",
   "metadata": {},
   "source": [
    "<img src=\"https://i.ibb.co/CsYYfs8/cw-Fmakm-CUs-E.jpg\" alt=\"cw-Fmakm-CUs-E\" border=\"0\">\n",
    "\n",
    "# Обучим модель"
   ]
  },
  {
   "cell_type": "code",
   "execution_count": 36,
   "id": "4d2979bc",
   "metadata": {},
   "outputs": [],
   "source": [
    "import sklearn\n",
    "\n",
    "df = pd.read_csv(\"deep22_with_trim_fen.csv\")\n",
    "\n",
    "X, y = get_values_from_df(df)\n",
    "y = sklearn.preprocessing.normalize([np.array(y)]).tolist()[0]"
   ]
  },
  {
   "cell_type": "code",
   "execution_count": null,
   "id": "54fbd78e",
   "metadata": {},
   "outputs": [
    {
     "name": "stdout",
     "output_type": "stream",
     "text": [
      "Model: \"sequential_14\"\n",
      "_________________________________________________________________\n",
      " Layer (type)                Output Shape              Param #   \n",
      "=================================================================\n",
      " flatten_14 (Flatten)        (None, 768)               0         \n",
      "                                                                 \n",
      " dense_39 (Dense)            (None, 2048)              1574912   \n",
      "                                                                 \n",
      " dense_40 (Dense)            (None, 2048)              4196352   \n",
      "                                                                 \n",
      " dense_41 (Dense)            (None, 2048)              4196352   \n",
      "                                                                 \n",
      "=================================================================\n",
      "Total params: 9967616 (38.02 MB)\n",
      "Trainable params: 9967616 (38.02 MB)\n",
      "Non-trainable params: 0 (0.00 Byte)\n",
      "_________________________________________________________________\n",
      "Epoch 1/100\n",
      "113/352 [========>.....................] - ETA: 12s - loss: 0.0085"
     ]
    }
   ],
   "source": [
    "# https://www.researchgate.net/publication/322539902_Learning_to_Evaluate_Chess_Positions_with_Deep_Neural_Networks_and_Limited_Lookahead\n",
    "\n",
    "from keras.models import Sequential\n",
    "from keras.layers import Dense, Flatten\n",
    "import keras\n",
    "\n",
    "X_train, X_test, y_train, y_test = train_test_split(X, y, test_size=0.1, random_state=42)\n",
    "\n",
    "model = Sequential()\n",
    "model.add(Flatten(input_shape=(768,)))\n",
    " \n",
    "model.add(Dense(2048, activation='elu'))\n",
    "model.add(Dense(2048, activation='elu'))\n",
    "model.add(Dense(2048, activation='elu'))\n",
    "\n",
    "model.summary()\n",
    "\n",
    "sgd = keras.optimizers.legacy.SGD(learning_rate=0.001, decay=1e-8, momentum=0.7, nesterov=True)\n",
    "model.compile(loss='mean_squared_error', optimizer=sgd)\n",
    "\n",
    "history = model.fit(X_train, y_train, batch_size=256, epochs=100)\n",
    "tests = model.evaluate(np.array(X_test), np.array(y_test), batch_size=256)"
   ]
  },
  {
   "cell_type": "code",
   "execution_count": null,
   "id": "a2c97621",
   "metadata": {},
   "outputs": [],
   "source": [
    "# Ускоряемся\n",
    "# https://www.kaggle.com/code/aw7834/chess-position-classifier"
   ]
  }
 ],
 "metadata": {
  "kernelspec": {
   "display_name": "Python 3 (ipykernel)",
   "language": "python",
   "name": "python3"
  },
  "language_info": {
   "codemirror_mode": {
    "name": "ipython",
    "version": 3
   },
   "file_extension": ".py",
   "mimetype": "text/x-python",
   "name": "python",
   "nbconvert_exporter": "python",
   "pygments_lexer": "ipython3",
   "version": "3.10.12"
  }
 },
 "nbformat": 4,
 "nbformat_minor": 5
}
