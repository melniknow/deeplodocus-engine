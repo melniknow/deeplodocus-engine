{
 "cells": [
  {
   "cell_type": "markdown",
   "id": "f0e4b8b8",
   "metadata": {},
   "source": [
    "# deeplodocus-learn"
   ]
  },
  {
   "cell_type": "markdown",
   "id": "70f347ed",
   "metadata": {},
   "source": [
    "#### За основу было взято исследование [Learning to Play Chess with Minimal Lookahead and Deep Value Neural Networks](https://www.ai.rug.nl/~mwiering/Thesis_Matthia_Sabatelli.pdf)\n",
    "\n",
    "#### Мои итоговые датасеты и обученные модели: [Google drive](https://drive.google.com/drive/folders/1VvwrBkgA9i_8i3D2PHZ_CJ_ni2xFUPlT)"
   ]
  },
  {
   "cell_type": "code",
   "execution_count": null,
   "id": "15ce072f",
   "metadata": {},
   "outputs": [],
   "source": [
    "from keras.models import Sequential\n",
    "from keras.layers import Dense, Flatten, BatchNormalization\n",
    "import keras\n",
    "import pandas as pd\n",
    "import stockfish\n",
    "import chess, chess.pgn\n",
    "import io\n",
    "from sklearn.neural_network import MLPRegressor\n",
    "from sklearn.model_selection import train_test_split\n",
    "from sklearn import metrics\n",
    "import numpy as np\n",
    "\n",
    "# https://github.com/paintception/DeepChess/\n",
    "X = np.load('final/Positions.npy')\n",
    "y = np.load('final/Labels.npy')"
   ]
  },
  {
   "cell_type": "code",
   "execution_count": null,
   "id": "1dc8850f",
   "metadata": {},
   "outputs": [],
   "source": [
    "model = Sequential()\n",
    " \n",
    "model.add(Dense(2048, activation='elu', input_shape=(768,)))\n",
    "model.add(BatchNormalization())\n",
    "\n",
    "model.add(Dense(2048, activation='elu'))\n",
    "model.add(BatchNormalization())\n",
    "\n",
    "model.add(Dense(2048, activation='elu'))\n",
    "model.add(BatchNormalization())\n",
    "\n",
    "model.add(Dense(1, activation='linear'))\n",
    "\n",
    "model.summary()\n",
    "\n",
    "sgd = keras.optimizers.legacy.SGD(learning_rate=0.001, decay=1e-8, momentum=0.7, nesterov=True)\n",
    "model.compile(loss='mean_squared_error', optimizer=sgd)"
   ]
  },
  {
   "cell_type": "code",
   "execution_count": null,
   "id": "d6c0160d",
   "metadata": {},
   "outputs": [],
   "source": [
    "history = model.fit(X, y, batch_size=248, epochs=500)\n",
    "\n",
    "model.save('1_400_000_ep500.h5')"
   ]
  }
 ],
 "metadata": {
  "kernelspec": {
   "display_name": "Python 3 (ipykernel)",
   "language": "python",
   "name": "python3"
  },
  "language_info": {
   "codemirror_mode": {
    "name": "ipython",
    "version": 3
   },
   "file_extension": ".py",
   "mimetype": "text/x-python",
   "name": "python",
   "nbconvert_exporter": "python",
   "pygments_lexer": "ipython3",
   "version": "3.10.12"
  }
 },
 "nbformat": 4,
 "nbformat_minor": 5
}
