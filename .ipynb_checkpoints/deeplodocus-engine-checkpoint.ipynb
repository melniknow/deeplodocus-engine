{
 "cells": [
  {
   "cell_type": "code",
   "execution_count": 36,
   "id": "6397cf4d",
   "metadata": {},
   "outputs": [
    {
     "name": "stdout",
     "output_type": "stream",
     "text": [
      "                Event            White       Black Result     UTCDate  \\\n",
      "0          Classical           eisaaaa    HAMID449    1-0  2016.06.30   \n",
      "1              Blitz            go4jas  Sergei1973    0-1  2016.06.30   \n",
      "2   Blitz tournament   Evangelistaizac      kafune    1-0  2016.06.30   \n",
      "3     Correspondence            Jvayne    Wsjvayne    1-0  2016.06.30   \n",
      "4   Blitz tournament            kyoday   BrettDale    0-1  2016.06.30   \n",
      "\n",
      "    UTCTime  WhiteElo  BlackElo  WhiteRatingDiff  BlackRatingDiff  ECO  \\\n",
      "0  22:00:01      1901      1896             11.0            -11.0  D10   \n",
      "1  22:00:01      1641      1627            -11.0             12.0  C20   \n",
      "2  22:00:02      1647      1688             13.0            -13.0  B01   \n",
      "3  22:00:02      1706      1317             27.0            -25.0  A00   \n",
      "4  22:00:02      1945      1900            -14.0             13.0  B90   \n",
      "\n",
      "                                         Opening TimeControl   Termination  \\\n",
      "0                                   Slav Defense       300+5  Time forfeit   \n",
      "1                      King's Pawn Opening: 2.b3       300+0        Normal   \n",
      "2  Scandinavian Defense: Mieses-Kotroc Variation       180+0  Time forfeit   \n",
      "3                           Van't Kruijs Opening           -        Normal   \n",
      "4    Sicilian Defense: Najdorf, Lipnitsky Attack       180+0  Time forfeit   \n",
      "\n",
      "                                                  AN  \n",
      "0  1. d4 d5 2. c4 c6 3. e3 a6 4. Nf3 e5 5. cxd5 e...  \n",
      "1  1. e4 e5 2. b3 Nf6 3. Bb2 Nc6 4. Nf3 d6 5. d3 ...  \n",
      "2  1. e4 d5 2. exd5 Qxd5 3. Nf3 Bg4 4. Be2 Nf6 5....  \n",
      "3  1. e3 Nf6 2. Bc4 d6 3. e4 e6 4. Nf3 Nxe4 5. Nd...  \n",
      "4  1. e4 c5 2. Nf3 d6 3. d4 cxd4 4. Nxd4 Nf6 5. N...  \n"
     ]
    }
   ],
   "source": [
    "import pandas as pd\n",
    "\n",
    "# https://www.kaggle.com/datasets/arevel/chess-games?resource=download\n",
    "df = pd.read_csv(\"chess_games.csv\")\n",
    "print(df.head())"
   ]
  },
  {
   "cell_type": "code",
   "execution_count": 39,
   "id": "70a6089b",
   "metadata": {},
   "outputs": [
    {
     "name": "stdout",
     "output_type": "stream",
     "text": [
      "Количество партий в датасете до фильтрации: 6256184\n",
      "Количество партий в датасете после фильтрации: 882302\n"
     ]
    }
   ],
   "source": [
    "# Для начала исключим все игры в режиме \"Пуля\" - там даже опытные игроки зевают фигуры\n",
    "# И оставим только партии в которых по крайней мере один игрок достиг рейтинга 2000\n",
    "\n",
    "print(\"Количество партий в датасете до фильтрации:\", len(df))\n",
    "\n",
    "temp_df = df.drop(df[(df['Event'] == ' Bullet tournament ') | (df['Event'] == 'Bullet tournament ') | (df['Event'] == ' Bullet ') | (df['Event'] == 'Bullet ')].index)\n",
    "filter_df = temp_df.drop(temp_df[(temp_df['WhiteElo'] < 2000) & (temp_df['BlackElo'] < 2000)].index)\n",
    "\n",
    "print(\"Количество партий в датасете после фильтрации:\", len(filter_df))"
   ]
  },
  {
   "cell_type": "code",
   "execution_count": 52,
   "id": "8bb06c00",
   "metadata": {},
   "outputs": [
    {
     "name": "stdout",
     "output_type": "stream",
     "text": [
      "                                                   AN\n",
      "7   1. d4 d5 2. Nf3 Nf6 3. Bf4 c6 4. e3 Bg4 5. Be2...\n",
      "8   1. d4 Nf6 2. Bf4 e6 3. e3 d5 4. Nf3 h6 5. Bd3 ...\n",
      "13  1. b4 e6 2. Bb2 d5 3. Nf3 Nf6 4. b5 Be7 5. e3 ...\n",
      "39  1. e4 e6 2. d4 d5 3. Nc3 Bb4 4. e5 c5 5. a3 cx...\n",
      "44  1. d4 d5 2. Nc3 c6 3. Nf3 Nf6 4. Bg5 e6 5. e3 ...\n"
     ]
    },
    {
     "data": {
      "text/plain": [
       "693446"
      ]
     },
     "execution_count": 52,
     "metadata": {},
     "output_type": "execute_result"
    }
   ],
   "source": [
    "# Отфильтруем наши данные\n",
    "\n",
    "notation_data = filter_df[['AN']]\n",
    "notation_data = notation_data[~notation_data['AN'].str.contains('{')]\n",
    "notation_data = notation_data[notation_data['AN'].str.len() >= 200]\n",
    "\n",
    "print(notation_data.head())\n",
    "len(notation_data)"
   ]
  },
  {
   "cell_type": "code",
   "execution_count": null,
   "id": "aba82f45",
   "metadata": {},
   "outputs": [],
   "source": []
  }
 ],
 "metadata": {
  "kernelspec": {
   "display_name": "Python 3 (ipykernel)",
   "language": "python",
   "name": "python3"
  },
  "language_info": {
   "codemirror_mode": {
    "name": "ipython",
    "version": 3
   },
   "file_extension": ".py",
   "mimetype": "text/x-python",
   "name": "python",
   "nbconvert_exporter": "python",
   "pygments_lexer": "ipython3",
   "version": "3.10.12"
  }
 },
 "nbformat": 4,
 "nbformat_minor": 5
}
